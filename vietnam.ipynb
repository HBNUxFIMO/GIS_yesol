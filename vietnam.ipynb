{
  "nbformat": 4,
  "nbformat_minor": 0,
  "metadata": {
    "colab": {
      "provenance": []
    },
    "kernelspec": {
      "name": "python3",
      "display_name": "Python 3"
    },
    "language_info": {
      "name": "python"
    }
  },
  "cells": [
    {
      "cell_type": "code",
      "execution_count": 1,
      "metadata": {
        "colab": {
          "base_uri": "https://localhost:8080/"
        },
        "id": "gQnjmp4H0cQV",
        "outputId": "e9957c5d-0933-4502-bd9c-ca75f519284f"
      },
      "outputs": [
        {
          "output_type": "stream",
          "name": "stdout",
          "text": [
            "GDAL's version is: 3.6.4\n",
            "<module 'osgeo.gdal' from '/usr/local/lib/python3.10/dist-packages/osgeo/gdal.py'>\n"
          ]
        }
      ],
      "source": [
        "from __future__ import print_function\n",
        "from osgeo import gdal\n",
        "\n",
        "print(\"GDAL's version is: \" + gdal.__version__)\n",
        "print(gdal)"
      ]
    },
    {
      "cell_type": "code",
      "source": [
        "dataset = gdal.Open('LC08_L2SP_116034_20240728_20240801_02_T1_ST_B10.TIF', gdal.GA_ReadOnly)\n",
        "\n",
        "print(dataset)\n",
        "\n"
      ],
      "metadata": {
        "colab": {
          "base_uri": "https://localhost:8080/"
        },
        "id": "nN8vtRog19iQ",
        "outputId": "9b84e185-5d72-47d2-c74a-f2f353df3625"
      },
      "execution_count": 12,
      "outputs": [
        {
          "output_type": "stream",
          "name": "stdout",
          "text": [
            "<osgeo.gdal.Dataset; proxy of <Swig Object of type 'GDALDatasetShadow *' at 0x7c0d326f6bb0> >\n"
          ]
        }
      ]
    },
    {
      "cell_type": "code",
      "source": [
        "num_bands = dataset.RasterCount\n",
        "print('Number of bands in image: {n}\\n'.format(n=num_bands))\n",
        "\n",
        "rows = dataset.RasterYSize\n",
        "cols = dataset.RasterXSize\n",
        "print('Image size is: {r} rows x {c} columns\\n'.format(r=rows, c=cols))\n",
        "\n",
        "desc = dataset.GetDescription()\n",
        "metadata = dataset.GetMetadata()\n",
        "\n",
        "print('Raster description: {desc}'.format(desc=desc))\n",
        "print('Raster metadata:')\n",
        "print(metadata)\n",
        "print('\\n')\n",
        "\n",
        "driver = dataset.GetDriver()\n",
        "print('Raster driver: {d}\\n'.format(d=driver.ShortName))\n",
        "\n",
        "blue = dataset.GetRasterBand(1)\n",
        "print(blue)"
      ],
      "metadata": {
        "colab": {
          "base_uri": "https://localhost:8080/"
        },
        "id": "zriLPvTF29rL",
        "outputId": "6e55328e-ad1c-43cc-8e04-048517360f0b"
      },
      "execution_count": 15,
      "outputs": [
        {
          "output_type": "stream",
          "name": "stdout",
          "text": [
            "Number of bands in image: 1\n",
            "\n",
            "Image size is: 7971 rows x 7841 columns\n",
            "\n",
            "Raster description: LC08_L2SP_116034_20240728_20240801_02_T1_ST_B10.TIF\n",
            "Raster metadata:\n",
            "{'AREA_OR_POINT': 'Point'}\n",
            "\n",
            "\n",
            "Raster driver: GTiff\n",
            "\n",
            "<osgeo.gdal.Band; proxy of <Swig Object of type 'GDALRasterBandShadow *' at 0x7c0ceb4d93b0> >\n"
          ]
        }
      ]
    },
    {
      "cell_type": "code",
      "source": [
        "datatype = blue.DataType\n",
        "print('Band datatype: {dt}'.format(dt=blue.DataType))\n",
        "\n",
        "datatype_name = gdal.GetDataTypeName(blue.DataType)\n",
        "print('Band datatype: {dt}'.format(dt=datatype_name))\n",
        "\n",
        "bytes = gdal.GetDataTypeSize(blue.DataType)\n",
        "print('Band datatype size: {b} bytes\\n'.format(b=bytes))\n",
        "\n",
        "band_max, band_min, band_mean, band_stddev = blue.GetStatistics(0,1)\n",
        "print('Band range: {minimum} - {maximum}'.format(maximum=band_max,\n",
        "                                                 minimum=band_min))\n",
        "print('Band mean, stddev: {m}, {s}\\n'.format(m=band_mean, s=band_stddev))\n",
        "\n",
        "blue_data = blue.ReadAsArray()"
      ],
      "metadata": {
        "colab": {
          "base_uri": "https://localhost:8080/"
        },
        "id": "rLWRqo-Y4XQG",
        "outputId": "8d3f4c41-e4fa-46b5-ad26-8216dfc1706c"
      },
      "execution_count": 19,
      "outputs": [
        {
          "output_type": "stream",
          "name": "stdout",
          "text": [
            "Band datatype: 2\n",
            "Band datatype: UInt16\n",
            "Band datatype size: 16 bytes\n",
            "\n",
            "Band range: 49685.0 - 293.0\n",
            "Band mean, stddev: 14862.5547395, 14883.051441326\n",
            "\n"
          ]
        }
      ]
    },
    {
      "cell_type": "code",
      "source": [
        "import numpy\n",
        "print(numpy.__version__)\n",
        "\n",
        "import numpy as np\n",
        "print(np.__version__)\n",
        "\n",
        "image = np.zeros((dataset.RasterYSize, dataset.RasterXSize, dataset.RasterCount))\n",
        "\n",
        "for b in range(dataset.RasterCount):\n",
        "    band = dataset.GetRasterBand(b + 1)\n",
        "\n",
        "    image[:, :, b] = band.ReadAsArray()\n",
        "\n",
        "print(image)\n",
        "print(image.dtype)"
      ],
      "metadata": {
        "colab": {
          "base_uri": "https://localhost:8080/"
        },
        "id": "iHR_f0wt3Qgh",
        "outputId": "344375b2-23e5-4968-b22e-2b1738179a65"
      },
      "execution_count": 20,
      "outputs": [
        {
          "output_type": "stream",
          "name": "stdout",
          "text": [
            "1.26.4\n",
            "1.26.4\n",
            "[[[0.]\n",
            "  [0.]\n",
            "  [0.]\n",
            "  ...\n",
            "  [0.]\n",
            "  [0.]\n",
            "  [0.]]\n",
            "\n",
            " [[0.]\n",
            "  [0.]\n",
            "  [0.]\n",
            "  ...\n",
            "  [0.]\n",
            "  [0.]\n",
            "  [0.]]\n",
            "\n",
            " [[0.]\n",
            "  [0.]\n",
            "  [0.]\n",
            "  ...\n",
            "  [0.]\n",
            "  [0.]\n",
            "  [0.]]\n",
            "\n",
            " ...\n",
            "\n",
            " [[0.]\n",
            "  [0.]\n",
            "  [0.]\n",
            "  ...\n",
            "  [0.]\n",
            "  [0.]\n",
            "  [0.]]\n",
            "\n",
            " [[0.]\n",
            "  [0.]\n",
            "  [0.]\n",
            "  ...\n",
            "  [0.]\n",
            "  [0.]\n",
            "  [0.]]\n",
            "\n",
            " [[0.]\n",
            "  [0.]\n",
            "  [0.]\n",
            "  ...\n",
            "  [0.]\n",
            "  [0.]\n",
            "  [0.]]]\n",
            "float64\n"
          ]
        }
      ]
    }
  ]
}